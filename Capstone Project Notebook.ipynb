{
    "cells": [
        {
            "cell_type": "markdown",
            "metadata": {
                "collapsed": true
            },
            "source": "# Capstone Project "
        },
        {
            "cell_type": "markdown",
            "metadata": {},
            "source": "<h2> Note: This notebook is used mainly for the capstone project on coursera's IBM Data Science Professional Certification </h2>"
        },
        {
            "cell_type": "markdown",
            "metadata": {},
            "source": "![alt text](https://m.economictimes.com/thumb/msid-71427663,width-400,height-300,resizemode-4,imgsize-57628/coursera-agencies.jpg \"Apple and Green Paper\")"
        },
        {
            "cell_type": "markdown",
            "metadata": {},
            "source": "##  Introduction/Business Problem Section"
        },
        {
            "cell_type": "markdown",
            "metadata": {},
            "source": "Imagine a scenario where a famous chef is fretting over where he should open a restaurant in a city, Toronto and what type of restaurant he should open. He has the financial resource to open a restaurant in the city, but <strong> will want to open the restaurant at a location in a neighborhood that will give him the maximum return on investment in opening the restaurant </strong>. There are some considerations when opening a restaurant, such as popularity of the place, the number of competitors in the neighbourhoods and the hiring and average rental cost in these neighbourhoods. He also will want to know the demographics such as the cost of living in the neighbourhoods and the average salary in these neighbourhoods so that he can set the appropriate price in his menu. Also, he will want to understand the type of customer in these neighbourhood so that he can attract these customers by making a specific based marketing strategy. This project will interest stakeholders that wants to open a restaurant in Toronto, but was wondering where he should open the restaurant and the specific details in regards to opening a restaurant, as this notebook can quickly help them in analyzing and making the decision. "
        },
        {
            "cell_type": "markdown",
            "metadata": {},
            "source": "## Data Section"
        },
        {
            "cell_type": "markdown",
            "metadata": {},
            "source": "Some of the data I am considering to collect and used for now :\n1. Foursquare location data: I will mainly use Foursqure API to collect the count of the number of restaurants in the venues of the neighbourhood, the statistics on the popularity of the neighbourhood and cluster the neighbourhoods using Machine Learning methods such as K-Means to understand the customer type and culture in these neighbourhoods, ultimately affecting my decision in regards of where to open the restaurant. \n2. Basic demographics details of the neighbourhoods such the average income of people living in these neighbourhoods and cost of living in these neighbourhoods, to undertand what price I should set on my menu, and perhaps some population statistics to understand the number of people living in these neighbourhoods in the past few years so as to understand whether there is a increasing or decreasing number of people living in these neighbourhoods. If there is a decrease number "
        },
        {
            "cell_type": "code",
            "execution_count": 2,
            "metadata": {},
            "outputs": [],
            "source": "# Importing the necessary libraries "
        },
        {
            "cell_type": "code",
            "execution_count": null,
            "metadata": {},
            "outputs": [],
            "source": "# Credentials"
        }
    ],
    "metadata": {
        "kernelspec": {
            "display_name": "Python 3.6",
            "language": "python",
            "name": "python3"
        },
        "language_info": {
            "codemirror_mode": {
                "name": "ipython",
                "version": 3
            },
            "file_extension": ".py",
            "mimetype": "text/x-python",
            "name": "python",
            "nbconvert_exporter": "python",
            "pygments_lexer": "ipython3",
            "version": "3.6.9"
        }
    },
    "nbformat": 4,
    "nbformat_minor": 1
}