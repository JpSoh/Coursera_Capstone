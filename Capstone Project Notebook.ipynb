{
    "cells": [
        {
            "cell_type": "markdown",
            "metadata": {
                "collapsed": true
            },
            "source": "# Capstone Project "
        },
        {
            "cell_type": "markdown",
            "metadata": {},
            "source": "<h2> Note: This notebook is used mainly for the capstone project on coursera's IBM Data Science Professional Certification </h2>"
        },
        {
            "cell_type": "markdown",
            "metadata": {},
            "source": "![alt text](https://m.economictimes.com/thumb/msid-71427663,width-400,height-300,resizemode-4,imgsize-57628/coursera-agencies.jpg \"Apple and Green Paper\")"
        },
        {
            "cell_type": "code",
            "execution_count": null,
            "metadata": {},
            "outputs": [],
            "source": ""
        }
    ],
    "metadata": {
        "kernelspec": {
            "display_name": "Python 3.6",
            "language": "python",
            "name": "python3"
        },
        "language_info": {
            "codemirror_mode": {
                "name": "ipython",
                "version": 3
            },
            "file_extension": ".py",
            "mimetype": "text/x-python",
            "name": "python",
            "nbconvert_exporter": "python",
            "pygments_lexer": "ipython3",
            "version": "3.6.9"
        }
    },
    "nbformat": 4,
    "nbformat_minor": 1
}