{
    "cells": [
        {
            "metadata": {
                "collapsed": true
            },
            "cell_type": "markdown",
            "source": "# Capstone Project "
        },
        {
            "metadata": {},
            "cell_type": "markdown",
            "source": "<h2> Note: This notebook is used mainly for the capstone project on coursera's IBM Data Science Professional Certification </h2>"
        },
        {
            "metadata": {},
            "cell_type": "markdown",
            "source": "![alt text](https://m.economictimes.com/thumb/msid-71427663,width-400,height-300,resizemode-4,imgsize-57628/coursera-agencies.jpg \"Apple and Green Paper\")"
        },
        {
            "metadata": {},
            "cell_type": "code",
            "source": "# Importing libraries \nimport pandas as pd\nimport numpy as np",
            "execution_count": 2,
            "outputs": []
        },
        {
            "metadata": {},
            "cell_type": "code",
            "source": "print('Hello Capstone Project Course!')",
            "execution_count": 3,
            "outputs": [
                {
                    "output_type": "stream",
                    "text": "Hello Capstone Project Course!\n",
                    "name": "stdout"
                }
            ]
        },
        {
            "metadata": {},
            "cell_type": "code",
            "source": "",
            "execution_count": null,
            "outputs": []
        }
    ],
    "metadata": {
        "kernelspec": {
            "name": "python3",
            "display_name": "Python 3.6",
            "language": "python"
        },
        "language_info": {
            "name": "python",
            "version": "3.6.9",
            "mimetype": "text/x-python",
            "codemirror_mode": {
                "name": "ipython",
                "version": 3
            },
            "pygments_lexer": "ipython3",
            "nbconvert_exporter": "python",
            "file_extension": ".py"
        }
    },
    "nbformat": 4,
    "nbformat_minor": 1
}